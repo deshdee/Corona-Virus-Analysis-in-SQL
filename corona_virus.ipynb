{
  "nbformat": 4,
  "nbformat_minor": 0,
  "metadata": {
    "colab": {
      "provenance": []
    },
    "kernelspec": {
      "name": "python3",
      "display_name": "Python 3"
    },
    "language_info": {
      "name": "python"
    }
  },
  "cells": [
    {
      "cell_type": "code",
      "execution_count": 5,
      "metadata": {
        "id": "RpEjIOnwnLfN"
      },
      "outputs": [],
      "source": [
        "import pandas as pd\n",
        "\n",
        "# Load your CSV file into a DataFrame\n",
        "df = pd.read_csv('/content/Corona Virus Dataset.csv')\n",
        "\n",
        "# Assuming your date column is named 'Date', replace it with your actual column name\n",
        "date_column = 'Date'\n",
        "\n",
        "# Iterate over each date value in the 'Date' column\n",
        "for i, date_value in enumerate(df[date_column]):\n",
        "    # Example: Change '22-01-2020' to '2020-01-22'\n",
        "    # Replace '-' with '/'\n",
        "    if '-' in date_value:\n",
        "        df.at[i, date_column] = pd.to_datetime(date_value, format='%d-%m-%Y', errors='coerce').strftime('%Y-%m-%d')\n",
        "    # Example: Change '1/2/2020' to '2020-01-02'\n",
        "    # Split date components and reformat\n",
        "    elif '/' in date_value:\n",
        "        components = date_value.split('/')\n",
        "        # Ensure day and month are zero-padded if single digit\n",
        "        df.at[i, date_column] = pd.to_datetime(date_value, format='%m/%d/%Y', errors='coerce').strftime('%Y-%m-%d')\n",
        "\n",
        "# Save the DataFrame back to CSV\n",
        "df.to_csv('/content/Corona Virus Dataset_processed.csv', index=False)\n"
      ]
    }
  ]
}